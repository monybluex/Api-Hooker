{
  "nbformat": 4,
  "nbformat_minor": 0,
  "metadata": {
    "colab": {
      "name": "printer_moniter.ipynb",
      "provenance": [],
      "collapsed_sections": [],
      "toc_visible": true
    },
    "kernelspec": {
      "name": "python3",
      "display_name": "Python 3"
    }
  },
  "cells": [
    {
      "cell_type": "markdown",
      "metadata": {
        "id": "QMTYEnXOOxf-"
      },
      "source": [
        "# printer moniter\n"
      ]
    },
    {
      "cell_type": "markdown",
      "metadata": {
        "id": "3d3kNaLyPPa8"
      },
      "source": [
        "### PDF TEXT EXTRACTOIN"
      ]
    },
    {
      "cell_type": "markdown",
      "metadata": {
        "id": "K1P3RO7yP_sh"
      },
      "source": [
        "### **pdf text extraction using pyPDF**"
      ]
    },
    {
      "cell_type": "code",
      "metadata": {
        "id": "AgfRl2kzPCCe"
      },
      "source": [
        "import PyPDF4\n",
        "from tabula import read_pdf\n",
        "from tabulate import tabulate\n",
        "\n",
        "pdf_data = PyPDF4.PdfFileReader(open('new1.pdf','rb'))\n",
        "\n",
        "no_page = pdf_data.getNumPages()\n",
        "\n",
        "for x in range(0,no_page):\n",
        "    pages = pdf_data.getPage(x)\n",
        "\n",
        "    data = pages.extractText()\n",
        "    #print(data)\n",
        "    data1 = data.replace('\\n','\\n')\n",
        "\n",
        "df = read_pdf('new1.pdf')\n",
        "#print(tabulate(df))"
      ],
      "execution_count": null,
      "outputs": []
    },
    {
      "cell_type": "code",
      "metadata": {
        "id": "0QVePpwxx8yw"
      },
      "source": [
        "import time\n",
        "import win32print\n",
        "import PyPDF2\n",
        "import os\n",
        "\n",
        "#----------------------------------------------------------------------\n",
        "def print_job_checker():\n",
        "    \"\"\"\n",
        "    Prints out all jobs in the print queue every 5 seconds\n",
        "    \"\"\"\n",
        "    jobs = [1]\n",
        "    while True:\n",
        "        jobs = []\n",
        "        for p in win32print.EnumPrinters(win32print.PRINTER_ENUM_LOCAL,None, 1):\n",
        "            flags, desc, name, comment = p\n",
        "            #print(flags)\n",
        "            #print(desc)\n",
        "            print(name)\n",
        "            #print(comment)\n",
        "\n",
        "            phandle = win32print.OpenPrinter(name)\n",
        "            print_jobs = win32print.EnumJobs(phandle, 0, -1, 1)\n",
        "            print(print_jobs)\n",
        "            if print_jobs:\n",
        "                jobs.extend(list(print_jobs))\n",
        "            for job in print_jobs:\n",
        "                print (\"printer name =>\" + name)\n",
        "                document = job[\"pDocument\"]\n",
        "                print (job['JobId'])\n",
        "                print (\"Document name => \" + document)\n",
        "                print(win32print.SetJob(phandle,job['JobId'],1,job,win32print.JOB_CONTROL_PAUSE))\n",
        "            \t#print(os.chdir(document))\n",
        "                #print(win32print.GetPrintProcessorDirectory(None,None))\n",
        "                print(win32print.EnumPrintProcessors(None,None))\n",
        "                print(\"hello\")\n",
        "\n",
        "            #win32print.AbortPrinter()\n",
        "\n",
        "\n",
        "\n",
        "\t\t\t\t#text= PyPDF2.PdfFileReader(open('sample.pdf','rb'))\n",
        "\n",
        "                # check the document\n",
        "\n",
        "\n",
        "\n",
        "            win32print.ClosePrinter(phandle)\n",
        " \n",
        "        #time.sleep(2)\n",
        "    print (\"No more jobs!\")\n",
        " \n",
        "#----------------------------------------------------------------------\n",
        "if __name__ == \"__main__\":\n",
        "    print_job_checker()\n",
        "\n",
        "\n",
        "\n",
        "\n",
        "'''import win32print\n",
        "import pywintypes\n",
        "#HANDLE = pywintypes.HANDLE\n",
        "#PyHANDLE = HANDLE()\n",
        "\n",
        "print(win32print.GetPrinter(PyHANDLE,1))\n",
        "\n",
        "'''"
      ],
      "execution_count": null,
      "outputs": []
    },
    {
      "cell_type": "markdown",
      "metadata": {
        "id": "aOXJcI53QSNI"
      },
      "source": [
        "### **pdf using pdfminer**"
      ]
    },
    {
      "cell_type": "code",
      "metadata": {
        "id": "uWwXbrRbQWsB"
      },
      "source": [
        "import io\n",
        "from pdfminer.converter import TextConverter\n",
        "from pdfminer.pdfinterp import PDFPageInterpreter\n",
        "from pdfminer.pdfinterp import PDFResourceManager\n",
        "from pdfminer.pdfpage import PDFPage\n",
        "\n",
        "\n",
        "def extract_text_from_pdf(pdf_path):\n",
        "    resource_manager = PDFResourceManager()\n",
        "    fake_file_handle = io.StringIO()\n",
        "    converter = TextConverter(resource_manager, fake_file_handle)\n",
        "    page_interpreter = PDFPageInterpreter(resource_manager, converter)\n",
        "\n",
        "    with open(pdf_path, 'rb') as fh:\n",
        "        for page in PDFPage.get_pages(fh,caching=True,check_extractable=True):\n",
        "            page_interpreter.process_page(page)\n",
        "\n",
        "        text = fake_file_handle.getvalue()\n",
        "\n",
        "    # close open handles\n",
        "    converter.close()\n",
        "    fake_file_handle.close()\n",
        "\n",
        "    if text:\n",
        "        return text\n",
        "if __name__ == '__main__':\n",
        "    print(extract_text_from_pdf('new1.pdf'))\n",
        "\n",
        "\n",
        "\n",
        "'''\n",
        "from tika  import parser\n",
        "\n",
        "raw = parser.from_file('pdf.pdf')\n",
        "print(raw['content'])\n",
        "\n",
        "\n",
        "\n",
        "\n",
        "\n",
        "from pdfminer.pdfparser import PDFParser\n",
        "fp = open('pdf.pdf','rb')\n",
        "parser =   PDFParser(fp)\n",
        "print()\n",
        "\n",
        "\n",
        "\n",
        "\n",
        "from cStringIO import StringIO\n",
        "from pdfminer.pdfinterp import PDFResourceManager, PDFPageInterpreter\n",
        "from pdfminer.converter import TextConverter\n",
        "from pdfminer.layout import LAParams\n",
        "from pdfminer.pdfpage import PDFPage\n",
        "import os\n",
        "import sys, getopt\n",
        "\n",
        "#converts pdf, returns its text content as a string\n",
        "def convert(fname, pages=None):\n",
        "    if not pages:\n",
        "        pagenums = set()\n",
        "    else:\n",
        "        pagenums = set(pages)\n",
        "\n",
        "    output = StringIO()\n",
        "    manager = PDFResourceManager()\n",
        "    converter = TextConverter(manager, output, laparams=LAParams())\n",
        "    interpreter = PDFPageInterpreter(manager, converter)\n",
        "\n",
        "    infile = file(fname, 'rb')\n",
        "    for page in PDFPage.get_pages(infile, pagenums):\n",
        "        interpreter.process_page(page)\n",
        "    infile.close()\n",
        "    converter.close()\n",
        "    text = output.getvalue()\n",
        "    output.close\n",
        "    return text\n",
        "\n",
        "def convertMultiple(pdfDir, txtDir):\n",
        "    if pdfDir == \"\": pdfDir = os.getcwd() + \"\\\\\" #if no pdfDir passed in\n",
        "    for pdf in os.listdir(pdfDir): #iterate through pdfs in pdf directory\n",
        "        fileExtension = pdf.split(\".\")[-1]\n",
        "        if fileExtension == \"pdf\":\n",
        "            pdfFilename = pdfDir + pdf\n",
        "            text = convert(pdfFilename) #get string of text content of pdf\n",
        "            textFilename = txtDir + pdf + \".txt\"\n",
        "            textFile = open(textFilename, \"w\") #make text file\n",
        "            textFile.write(text) #write text to text file\n",
        "\t\t\t#textFile.close\n",
        "\n",
        "pdfDir = \"pdftotxt/pdf/\"\n",
        "txtDir = \"pdftotxt/txt/\"\n",
        "convertMultiple(pdfDir, txtDir)\n",
        "\n",
        "'''\n"
      ],
      "execution_count": null,
      "outputs": []
    },
    {
      "cell_type": "markdown",
      "metadata": {
        "id": "oQXQtzG-yGpW"
      },
      "source": [
        "### debugged printer manager"
      ]
    },
    {
      "cell_type": "code",
      "metadata": {
        "id": "2Y3gSQfbKwEG",
        "outputId": "691b3192-2f82-4cde-f16d-2d634ae25cac",
        "colab": {
          "base_uri": "https://localhost:8080/",
          "height": 367
        }
      },
      "source": [
        "import time\n",
        "import win32print\n",
        "import PyPDF2\n",
        "import os\n",
        "\n",
        "#----------------------------------------------------------------------\n",
        "def print_job_checker():\n",
        "    \"\"\"\n",
        "    Prints out all jobs in the print queue every 5 seconds\n",
        "    \"\"\"\n",
        "    jobs = [1]\n",
        "    while jobs:\n",
        "        jobs = []\n",
        "        for p in win32print.EnumPrinters(win32print.PRINTER_ENUM_LOCAL,None, 1):\n",
        "            flags, desc, name, comment = p\n",
        "            #print(flags)New Section\n",
        "            #print(desc)\n",
        "            print(name)\n",
        "            #print(comment)\n",
        "\n",
        "            phandle = win32print.OpenPrinter(name)\n",
        "            print_jobs = win32print.EnumJobs(phandle, 0, -1, 1)\n",
        "            print(print_jobs)\n",
        "            if print_jobs:\n",
        "                jobs.extend(list(print_jobs))\n",
        "            for job in print_jobs:\n",
        "                print (\"printer name =>\" + name)\n",
        "                document = job[\"pDocument\"]\n",
        "                print (\"Document name => \" + document)\n",
        "                win32print.SetJob(p,1,1,None,JOB_CONTROL_PAUSE)\n",
        "            \t#print(os.chdir(document))\n",
        "                #print(win32print.GetPrintProcessorDirectory(None,None))\n",
        "                print(win32print.EnumPrintProcessors(None,None))\n",
        "                print(\"hello\")\n",
        "\n",
        "            #win32print.AbortPrinter()\n",
        "\n",
        "\n",
        "\n",
        "\t\t\t\t#text= PyPDF2.PdfFileReader(open('sample.pdf','rb'))\n",
        "\n",
        "                # check the document\n",
        "\n",
        "\n",
        "\n",
        "            win32print.ClosePrinter(phandle)\n",
        " \n",
        "        #time.sleep(2)\n",
        "    print (\"No more jobs!\")\n",
        " \n",
        "#----------------------------------------------------------------------\n",
        "if __name__ == \"__main__\":\n",
        "    print_job_checker()\n"
      ],
      "execution_count": null,
      "outputs": [
        {
          "output_type": "error",
          "ename": "ModuleNotFoundError",
          "evalue": "ignored",
          "traceback": [
            "\u001b[0;31m---------------------------------------------------------------------------\u001b[0m",
            "\u001b[0;31mModuleNotFoundError\u001b[0m                       Traceback (most recent call last)",
            "\u001b[0;32m<ipython-input-1-9efeae399839>\u001b[0m in \u001b[0;36m<module>\u001b[0;34m()\u001b[0m\n\u001b[1;32m      1\u001b[0m \u001b[0;32mimport\u001b[0m \u001b[0mtime\u001b[0m\u001b[0;34m\u001b[0m\u001b[0;34m\u001b[0m\u001b[0m\n\u001b[0;32m----> 2\u001b[0;31m \u001b[0;32mimport\u001b[0m \u001b[0mwin32print\u001b[0m\u001b[0;34m\u001b[0m\u001b[0;34m\u001b[0m\u001b[0m\n\u001b[0m\u001b[1;32m      3\u001b[0m \u001b[0;32mimport\u001b[0m \u001b[0mPyPDF2\u001b[0m\u001b[0;34m\u001b[0m\u001b[0;34m\u001b[0m\u001b[0m\n\u001b[1;32m      4\u001b[0m \u001b[0;32mimport\u001b[0m \u001b[0mos\u001b[0m\u001b[0;34m\u001b[0m\u001b[0;34m\u001b[0m\u001b[0m\n\u001b[1;32m      5\u001b[0m \u001b[0;34m\u001b[0m\u001b[0m\n",
            "\u001b[0;31mModuleNotFoundError\u001b[0m: No module named 'win32print'",
            "",
            "\u001b[0;31m---------------------------------------------------------------------------\u001b[0;32m\nNOTE: If your import is failing due to a missing package, you can\nmanually install dependencies using either !pip or !apt.\n\nTo view examples of installing some common dependencies, click the\n\"Open Examples\" button below.\n\u001b[0;31m---------------------------------------------------------------------------\u001b[0m\n"
          ]
        }
      ]
    }
  ]
}