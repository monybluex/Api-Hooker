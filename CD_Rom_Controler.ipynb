{
  "nbformat": 4,
  "nbformat_minor": 0,
  "metadata": {
    "colab": {
      "name": "CD_Rom_Controler.ipynb",
      "provenance": [],
      "collapsed_sections": [],
      "toc_visible": true
    },
    "kernelspec": {
      "name": "python3",
      "display_name": "Python 3"
    }
  },
  "cells": [
    {
      "cell_type": "markdown",
      "metadata": {
        "id": "9-jFnKHivLyS"
      },
      "source": [
        "# CD ROM control"
      ]
    },
    {
      "cell_type": "markdown",
      "metadata": {
        "id": "aVRssal0WKCZ"
      },
      "source": [
        "###open and close cd rom\n",
        "\n",
        "\n",
        "\n",
        "\n"
      ]
    },
    {
      "cell_type": "code",
      "metadata": {
        "id": "kozdbgUsUez0"
      },
      "source": [
        "import ctypes\n",
        "\n",
        "#open cdrom\n",
        "ctypes.windll.WINMM.mciSendStringW(u\"set cdaudio door \", None, 0, None)\n",
        "\n",
        "#close cdrom\n",
        "ctypes.windll.WINMM.mciSendStringW(u\"set cdaudio door closed\", None, 0, None)"
      ],
      "execution_count": null,
      "outputs": []
    },
    {
      "cell_type": "markdown",
      "metadata": {
        "id": "skiCEYzYXdXW"
      },
      "source": [
        "### moniter cd rom with IMPAI"
      ]
    },
    {
      "cell_type": "code",
      "metadata": {
        "id": "9x-m4Sr4W1tq"
      },
      "source": [
        "class Sink(object):\n",
        "    def DDiscFormat2DataEvents_Update(self, this, progress):\n",
        "        strTimeStatus = 'Time: ' + progress.ElapsedTime + ' / ' + progress.TotalTime\n",
        "        print(strTimeStatus)\n",
        "\n",
        "import comtypes.client as cc\n",
        "\n",
        "class MyProgram(object):\n",
        "    def main(self):\n",
        "        # index of recording drive\n",
        "        index = 0\n",
        "\n",
        "        # files to transfer to disc\n",
        "        path = r'D:\\Example'\n",
        "\n",
        "        # DiscMaster2 object to connect to optical drives\n",
        "        discMaster = cc.CreateObject('IMAPI2.MsftDiscMaster2')\n",
        "        # cc.ShowEvents(discMaster) ### uncomment for print events\n",
        "\n",
        "        # DiscRecorder object for specified burning device\n",
        "        recorder = cc.CreateObject('IMAPI2.MsftDiscRecorder2')\n",
        "        uniqueId = discMaster.Item(index)\n",
        "        recorder.InitializeDiscRecorder(uniqueId)\n",
        "\n",
        "        # create an image stream for a specified directory\n",
        "        # create a new file system image and retrieve root directory\n",
        "        _fsi = cc.CreateObject('IMAPI2FS.MsftFileSystemImage')\n",
        "        _dir = _fsi.Root\n",
        "        _fsi.VolumeName = 'TestName'\n",
        "\n",
        "        # create the new disc format and set the recorder\n",
        "        dataWriter = cc.CreateObject('IMAPI2.MsftDiscFormat2Data')\n",
        "        # cc.ShowEvents(dataWriter) ### uncomment for print events\n",
        "        dataWriter.Recorder = recorder\n",
        "        dataWriter.ClientName = 'MyClient'\n",
        "        dataWriter.ForceOverwrite = True\n",
        "\n",
        "        _fsi.ChooseImageDefaults(recorder)\n",
        "\n",
        "        # get events\n",
        "        sink = Sink()\n",
        "        _events = cc.GetEvents(dataWriter, sink)\n",
        "        # print(_events)  ### <comtypes.client._events._AdviseConnection object at 0x...>\n",
        "\n",
        "        # add the directory and its content to the file system\n",
        "        _dir.AddTree(path, False)\n",
        "\n",
        "        # create an image from the file system\n",
        "        _result = _fsi.CreateResultImage()\n",
        "        _stream = _result.ImageStream\n",
        "\n",
        "        # write disc using the specified recorder\n",
        "        print('Writing content to disc...')\n",
        "        dataWriter.Write(_stream)\n",
        "        print('Finished writing content')"
      ],
      "execution_count": null,
      "outputs": []
    },
    {
      "cell_type": "markdown",
      "metadata": {
        "id": "Slw_dulCXebX"
      },
      "source": [
        "### list the cd rom device"
      ]
    },
    {
      "cell_type": "code",
      "metadata": {
        "id": "4Oqy0zeWXfjN"
      },
      "source": [
        "import wmi\n",
        "c = wmi.WMI()\n",
        "for cdrom in c.Win32_CDROMDrive():\n",
        "    print cdrom.Drive, cdrom.MediaLoaded"
      ],
      "execution_count": null,
      "outputs": []
    },
    {
      "cell_type": "markdown",
      "metadata": {
        "id": "NJhZS2gMkSN8"
      },
      "source": [
        "### canceling the write operation."
      ]
    },
    {
      "cell_type": "code",
      "metadata": {
        "id": "ahwxP5cXim8b"
      },
      "source": [
        "import imapi2\n",
        "\n",
        "# update the cd rom status.\n",
        "DDiscFormat2EraseEvents.Update\n",
        "\n",
        "#cancel the current write operation.\n",
        "IDiscFormat2RawCD.CancelWrite\n",
        "\n"
      ],
      "execution_count": null,
      "outputs": []
    },
    {
      "cell_type": "markdown",
      "metadata": {
        "id": "FzkUcbElHzVf"
      },
      "source": [
        "###notify device added"
      ]
    },
    {
      "cell_type": "code",
      "metadata": {
        "id": "NLH0b9rYHqrb"
      },
      "source": [
        "import sink as Sink\n",
        "import comtypes.client as cc\n",
        "from comtypes.gen import IMAPI2\n",
        "from comtypes.gen._2735412F_7F64_5B0F_8F00_5D77AFBE261E_0_1_0 import DDiscMaster2Events, DDiscFormat2DataEvents, \\\n",
        "    IDiscFormat2DataEventArgs, IBurnVerification\n",
        "\n",
        "IMAPI2.DDiscFormat2EraseEvents\n",
        "\n",
        "\n",
        "if DDiscMaster2Events.NotifyDeviceAdded is True:\n",
        "    print(\"device added\")\n",
        "else:\n",
        "    print(\"none\")\n",
        "\n",
        "\n",
        "DDiscFormat2DataEvents.Update     #Implement this method to receive progress notification of the current raw-image write operation.\n",
        "\n",
        "#IDiscFormat2DataEventArgs.GetTypeInfo( 0,1)    # current write action\n",
        "\n",
        "#IBurnVerification.get_BurnVerificationLevel\n"
      ],
      "execution_count": null,
      "outputs": []
    },
    {
      "cell_type": "markdown",
      "metadata": {
        "id": "oAfQEF6-IFUn"
      },
      "source": [
        "###copy to cd-rom moniter"
      ]
    },
    {
      "cell_type": "code",
      "metadata": {
        "id": "UCg7u9A4IFjH"
      },
      "source": [
        "import os\n",
        "import wmi\n",
        "from comtypes.gen import IMAPI2\n",
        "from comtypes.gen._2735412F_7F64_5B0F_8F00_5D77AFBE261E_0_1_0 import IDiscFormat2Data, HRESULT\n",
        "\n",
        "c = wmi.WMI()\n",
        "for cdrom in c.Win32_CDROMDrive():\n",
        "    print (cdrom.Drive, cdrom.MediaLoaded)\n",
        "    if cdrom.MediaLoaded is False:\n",
        "        print(\"Media is Loaded\")\n",
        "    #if data matching ALGO loop starts\n",
        "    #IMAPI2.DDiscFormat2EraseEvents()\n",
        "    HRESULT.CancelWrite()\n",
        "    HRESULT.EraseMedia()\n",
        "    #if data matching ALGO loop ends\n"
      ],
      "execution_count": null,
      "outputs": []
    }
  ]
}